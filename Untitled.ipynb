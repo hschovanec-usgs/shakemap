{
 "cells": [
  {
   "cell_type": "code",
   "execution_count": 3,
   "metadata": {},
   "outputs": [],
   "source": [
    "import numpy as np\n",
    "import math\n",
    "import cartopy.crs as ccrs\n",
    "import matplotlib.pyplot as plt"
   ]
  },
  {
   "cell_type": "code",
   "execution_count": 4,
   "metadata": {},
   "outputs": [],
   "source": [
    "def getNextPoint(lat, lon, bearing, distance):\n",
    "    earth_radius = 6371.0088\n",
    "    next_lat = np.rad2deg((distance / earth_radius) * np.cos(bearing)) + lat\n",
    "    next_lon = np.rad2deg((distance / (earth_radius * np.sin(np.radians(next_lat)))) * np.sin(bearing)) + lon\n",
    "    return next_lat, next_lon\n",
    "    \n",
    "def getOrigin(P, dx, dy, strike):\n",
    "    lat = P['lat']\n",
    "    lon = P['lon'] \n",
    "    dip_direction = np.deg2rad(strike + 90)\n",
    "    strike = np.deg2rad(strike)\n",
    "    dip_lat, dip_lon = getNextPoint(lat, lon, dip_direction, dy)\n",
    "    strike_lat, strike_lon = getNextPoint(lat, lon, strike, dx)\n",
    "    depth = 0\n",
    "    origin = {}\n",
    "    origin['lat'] = strike_lat\n",
    "    origin['lon'] = dip_lon\n",
    "    origin['depth'] = depth\n",
    "    return origin\n",
    "\n",
    "def getFourCorners(origin, strike, dip, width, length):\n",
    "    # Get Upper Corner\n",
    "    direction = np.deg2rad(strike + 180)\n",
    "    distance = length\n",
    "    depth = 0\n",
    "    P2 = {}\n",
    "    P2['lat'] , P2['lon'] = getNextPoint(origin['lat'], origin['lon'], direction, distance)\n",
    "    P2['depth'] = depth\n",
    "    \n",
    "    # Get Lower Corners\n",
    "    direction = np.deg2rad(strike + 90)\n",
    "    dip = np.deg2rad(dip)\n",
    "    distance = width\n",
    "    depth = width * np.sin(dip)\n",
    "    P3 = {}\n",
    "    P3['lat'] , P3['lon'] = getNextPoint(P2['lat'], P2['lon'], direction, distance)\n",
    "    P3['depth'] = depth\n",
    "    \n",
    "    direction = np.deg2rad(strike)\n",
    "    distance = length\n",
    "    P4 = {}\n",
    "    P4['lat'] , P4['lon'] = getNextPoint(P2['lat'], P2['lon'], direction, distance)\n",
    "    P4['depth'] = depth\n",
    "    \n",
    "    return (origin, P2, P3, P4)\n",
    "    \n",
    "    \n",
    "    \n",
    "    \n",
    "    \n",
    "lat = 36.53829455136484\n",
    "lon = -121.61865234125003    \n",
    "P = {}\n",
    "P['lat'] = lat\n",
    "P['lon'] = lon\n",
    "P['depth'] = 20\n",
    "dx = 10\n",
    "dy = 20\n",
    "width = 100\n",
    "length = 50\n",
    "strike = 0\n",
    "dip = 45\n",
    "origin = getOrigin(P, dx, dy, strike)\n",
    "P1, P2, P3, P4 = getFourCorners(origin, strike, dip, width, length)"
   ]
  }
 ],
 "metadata": {
  "kernelspec": {
   "display_name": "Python 3",
   "language": "python",
   "name": "python3"
  },
  "language_info": {
   "codemirror_mode": {
    "name": "ipython",
    "version": 3
   },
   "file_extension": ".py",
   "mimetype": "text/x-python",
   "name": "python",
   "nbconvert_exporter": "python",
   "pygments_lexer": "ipython3",
   "version": "3.6.4"
  }
 },
 "nbformat": 4,
 "nbformat_minor": 2
}
